{
 "cells": [
  {
   "cell_type": "code",
   "execution_count": null,
   "metadata": {},
   "outputs": [],
   "source": [
    "import xinfer\n",
    "\n",
    "# xinfer.list_models(\"vlrm-blip2-opt-2.7b\", backend=\"transformers\")\n",
    "xinfer.list_models(\"moon\")"
   ]
  },
  {
   "cell_type": "code",
   "execution_count": null,
   "metadata": {},
   "outputs": [],
   "source": [
    "import timm\n",
    "\n",
    "timm.list_models(\"eva02_large*\")"
   ]
  },
  {
   "cell_type": "code",
   "execution_count": null,
   "metadata": {},
   "outputs": [],
   "source": [
    "model = xinfer.create_model(\"vikhyatk/moondream2\")\n",
    "# model = xinfer.create_model(\"microsoft/git-base-coco\", \"transformers\", trust_remote_code=True)\n",
    "# model = xinfer.create_model(\"Salesforce/blip2-opt-2.7b\")\n",
    "# model = xinfer.create_model(\"sashakunitsyn/vlrm-blip2-opt-2.7b\", \"transformers\")\n",
    "# model = xinfer.create_model(\"microsoft/kosmos-2-patch14-224\", \"transformers\")\n",
    "\n",
    "\n",
    "# model = xinfer.create_model(\n",
    "#     \"llava-hf/llava-onevision-qwen2-0.5b-ov-hf\",\n",
    "#     \"transformers\"\n",
    "# )\n"
   ]
  },
  {
   "cell_type": "code",
   "execution_count": null,
   "metadata": {},
   "outputs": [],
   "source": [
    "image = \"https://raw.githubusercontent.com/vikhyat/moondream/main/assets/demo-1.jpg\"\n",
    "prompt = \"Describe this image. Answer:\"\n",
    "# prompt = \"<grounding> An image of\"\n",
    "\n",
    "generated_text = model.inference(image, prompt, max_new_tokens=50)\n",
    "generated_text"
   ]
  },
  {
   "cell_type": "code",
   "execution_count": 1,
   "metadata": {},
   "outputs": [
    {
     "data": {
      "application/vnd.jupyter.widget-view+json": {
       "model_id": "1ccf88b4e8e44ae6bf74a0551ca03940",
       "version_major": 2,
       "version_minor": 0
      },
      "text/plain": [
       "Loading checkpoint shards:   0%|          | 0/2 [00:00<?, ?it/s]"
      ]
     },
     "metadata": {},
     "output_type": "display_data"
    },
    {
     "ename": "NameError",
     "evalue": "name 'xinfer' is not defined",
     "output_type": "error",
     "traceback": [
      "\u001b[0;31m---------------------------------------------------------------------------\u001b[0m",
      "\u001b[0;31mNameError\u001b[0m                                 Traceback (most recent call last)",
      "Cell \u001b[0;32mIn[1], line 4\u001b[0m\n\u001b[1;32m      1\u001b[0m \u001b[38;5;28;01mfrom\u001b[39;00m \u001b[38;5;21;01mxinfer\u001b[39;00m\u001b[38;5;21;01m.\u001b[39;00m\u001b[38;5;21;01mtransformers\u001b[39;00m\u001b[38;5;21;01m.\u001b[39;00m\u001b[38;5;21;01mauto\u001b[39;00m \u001b[38;5;28;01mimport\u001b[39;00m Vision2SeqModel\n\u001b[1;32m      3\u001b[0m model \u001b[38;5;241m=\u001b[39m Vision2SeqModel(\u001b[38;5;124m\"\u001b[39m\u001b[38;5;124mSalesforce/blip2-opt-2.7b\u001b[39m\u001b[38;5;124m\"\u001b[39m)\n\u001b[0;32m----> 4\u001b[0m model \u001b[38;5;241m=\u001b[39m \u001b[43mxinfer\u001b[49m\u001b[38;5;241m.\u001b[39mcreate_model(model)\n",
      "\u001b[0;31mNameError\u001b[0m: name 'xinfer' is not defined"
     ]
    }
   ],
   "source": [
    "\n"
   ]
  },
  {
   "cell_type": "code",
   "execution_count": null,
   "metadata": {},
   "outputs": [],
   "source": []
  }
 ],
 "metadata": {
  "kernelspec": {
   "display_name": "xinfer-test",
   "language": "python",
   "name": "python3"
  },
  "language_info": {
   "codemirror_mode": {
    "name": "ipython",
    "version": 3
   },
   "file_extension": ".py",
   "mimetype": "text/x-python",
   "name": "python",
   "nbconvert_exporter": "python",
   "pygments_lexer": "ipython3",
   "version": "3.10.15"
  }
 },
 "nbformat": 4,
 "nbformat_minor": 2
}
