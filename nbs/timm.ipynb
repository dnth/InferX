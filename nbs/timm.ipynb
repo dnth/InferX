{
 "cells": [
  {
   "cell_type": "code",
   "execution_count": 1,
   "metadata": {},
   "outputs": [
    {
     "data": {
      "text/html": [
       "<pre style=\"white-space:pre;overflow-x:auto;line-height:normal;font-family:Menlo,'DejaVu Sans Mono',consolas,'Courier New',monospace\"><span style=\"font-style: italic\">                                Available Models                                </span>\n",
       "┏━━━━━━━━━┳━━━━━━━━━━━━━━━━━━━━━━━━━━━━━━━━━━━━━━━━━━━━━━━━━┳━━━━━━━━━━━━━━━━━━┓\n",
       "┃<span style=\"font-weight: bold\"> Backend </span>┃<span style=\"font-weight: bold\"> Model ID                                        </span>┃<span style=\"font-weight: bold\"> Input --&gt; Output </span>┃\n",
       "┡━━━━━━━━━╇━━━━━━━━━━━━━━━━━━━━━━━━━━━━━━━━━━━━━━━━━━━━━━━━━╇━━━━━━━━━━━━━━━━━━┩\n",
       "│<span style=\"color: #008080; text-decoration-color: #008080\"> timm    </span>│<span style=\"color: #800080; text-decoration-color: #800080\"> eva02_large_patch14_448.mim_m38m_ft_in22k_in1k  </span>│<span style=\"color: #008000; text-decoration-color: #008000\"> image --&gt; class  </span>│\n",
       "│<span style=\"color: #008080; text-decoration-color: #008080\"> timm    </span>│<span style=\"color: #800080; text-decoration-color: #800080\"> eva02_large_patch14_448.mim_in22k_ft_in22k_in1k </span>│<span style=\"color: #008000; text-decoration-color: #008000\"> image --&gt; class  </span>│\n",
       "│<span style=\"color: #008080; text-decoration-color: #008080\"> timm    </span>│<span style=\"color: #800080; text-decoration-color: #800080\"> eva_giant_patch14_560.m30m_ft_in22k_in1k        </span>│<span style=\"color: #008000; text-decoration-color: #008000\"> image --&gt; class  </span>│\n",
       "│<span style=\"color: #008080; text-decoration-color: #008080\"> timm    </span>│<span style=\"color: #800080; text-decoration-color: #800080\"> eva02_large_patch14_448.mim_in22k_ft_in1k       </span>│<span style=\"color: #008000; text-decoration-color: #008000\"> image --&gt; class  </span>│\n",
       "│<span style=\"color: #008080; text-decoration-color: #008080\"> timm    </span>│<span style=\"color: #800080; text-decoration-color: #800080\"> eva_giant_patch14_336.m30m_ft_in22k_in1k        </span>│<span style=\"color: #008000; text-decoration-color: #008000\"> image --&gt; class  </span>│\n",
       "│<span style=\"color: #008080; text-decoration-color: #008080\"> timm    </span>│<span style=\"color: #800080; text-decoration-color: #800080\"> eva02_large_patch14_448.mim_m38m_ft_in1k        </span>│<span style=\"color: #008000; text-decoration-color: #008000\"> image --&gt; class  </span>│\n",
       "│<span style=\"color: #008080; text-decoration-color: #008080\"> timm    </span>│<span style=\"color: #800080; text-decoration-color: #800080\"> eva_giant_patch14_336.clip_ft_in1k              </span>│<span style=\"color: #008000; text-decoration-color: #008000\"> image --&gt; class  </span>│\n",
       "│<span style=\"color: #008080; text-decoration-color: #008080\"> timm    </span>│<span style=\"color: #800080; text-decoration-color: #800080\"> eva_large_patch14_336.in22k_ft_in22k_in1k       </span>│<span style=\"color: #008000; text-decoration-color: #008000\"> image --&gt; class  </span>│\n",
       "│<span style=\"color: #008080; text-decoration-color: #008080\"> timm    </span>│<span style=\"color: #800080; text-decoration-color: #800080\"> eva_giant_patch14_224.clip_ft_in1k              </span>│<span style=\"color: #008000; text-decoration-color: #008000\"> image --&gt; class  </span>│\n",
       "│<span style=\"color: #008080; text-decoration-color: #008080\"> timm    </span>│<span style=\"color: #800080; text-decoration-color: #800080\"> eva_large_patch14_336.in22k_ft_in1k             </span>│<span style=\"color: #008000; text-decoration-color: #008000\"> image --&gt; class  </span>│\n",
       "│<span style=\"color: #008080; text-decoration-color: #008080\"> timm    </span>│<span style=\"color: #800080; text-decoration-color: #800080\"> eva02_base_patch14_448.mim_in22k_ft_in22k_in1k  </span>│<span style=\"color: #008000; text-decoration-color: #008000\"> image --&gt; class  </span>│\n",
       "│<span style=\"color: #008080; text-decoration-color: #008080\"> timm    </span>│<span style=\"color: #800080; text-decoration-color: #800080\"> eva_large_patch14_196.in22k_ft_in22k_in1k       </span>│<span style=\"color: #008000; text-decoration-color: #008000\"> image --&gt; class  </span>│\n",
       "│<span style=\"color: #008080; text-decoration-color: #008080\"> timm    </span>│<span style=\"color: #800080; text-decoration-color: #800080\"> eva02_base_patch14_448.mim_in22k_ft_in1k        </span>│<span style=\"color: #008000; text-decoration-color: #008000\"> image --&gt; class  </span>│\n",
       "│<span style=\"color: #008080; text-decoration-color: #008080\"> timm    </span>│<span style=\"color: #800080; text-decoration-color: #800080\"> eva_large_patch14_196.in22k_ft_in1k             </span>│<span style=\"color: #008000; text-decoration-color: #008000\"> image --&gt; class  </span>│\n",
       "│<span style=\"color: #008080; text-decoration-color: #008080\"> timm    </span>│<span style=\"color: #800080; text-decoration-color: #800080\"> eva02_small_patch14_336.mim_in22k_ft_in1k       </span>│<span style=\"color: #008000; text-decoration-color: #008000\"> image --&gt; class  </span>│\n",
       "│<span style=\"color: #008080; text-decoration-color: #008080\"> timm    </span>│<span style=\"color: #800080; text-decoration-color: #800080\"> eva02_tiny_patch14_336.mim_in22k_ft_in1k        </span>│<span style=\"color: #008000; text-decoration-color: #008000\"> image --&gt; class  </span>│\n",
       "└─────────┴─────────────────────────────────────────────────┴──────────────────┘\n",
       "</pre>\n"
      ],
      "text/plain": [
       "\u001b[3m                                Available Models                                \u001b[0m\n",
       "┏━━━━━━━━━┳━━━━━━━━━━━━━━━━━━━━━━━━━━━━━━━━━━━━━━━━━━━━━━━━━┳━━━━━━━━━━━━━━━━━━┓\n",
       "┃\u001b[1m \u001b[0m\u001b[1mBackend\u001b[0m\u001b[1m \u001b[0m┃\u001b[1m \u001b[0m\u001b[1mModel ID                                       \u001b[0m\u001b[1m \u001b[0m┃\u001b[1m \u001b[0m\u001b[1mInput --> Output\u001b[0m\u001b[1m \u001b[0m┃\n",
       "┡━━━━━━━━━╇━━━━━━━━━━━━━━━━━━━━━━━━━━━━━━━━━━━━━━━━━━━━━━━━━╇━━━━━━━━━━━━━━━━━━┩\n",
       "│\u001b[36m \u001b[0m\u001b[36mtimm   \u001b[0m\u001b[36m \u001b[0m│\u001b[35m \u001b[0m\u001b[35meva02_large_patch14_448.mim_m38m_ft_in22k_in1k \u001b[0m\u001b[35m \u001b[0m│\u001b[32m \u001b[0m\u001b[32mimage --> class \u001b[0m\u001b[32m \u001b[0m│\n",
       "│\u001b[36m \u001b[0m\u001b[36mtimm   \u001b[0m\u001b[36m \u001b[0m│\u001b[35m \u001b[0m\u001b[35meva02_large_patch14_448.mim_in22k_ft_in22k_in1k\u001b[0m\u001b[35m \u001b[0m│\u001b[32m \u001b[0m\u001b[32mimage --> class \u001b[0m\u001b[32m \u001b[0m│\n",
       "│\u001b[36m \u001b[0m\u001b[36mtimm   \u001b[0m\u001b[36m \u001b[0m│\u001b[35m \u001b[0m\u001b[35meva_giant_patch14_560.m30m_ft_in22k_in1k       \u001b[0m\u001b[35m \u001b[0m│\u001b[32m \u001b[0m\u001b[32mimage --> class \u001b[0m\u001b[32m \u001b[0m│\n",
       "│\u001b[36m \u001b[0m\u001b[36mtimm   \u001b[0m\u001b[36m \u001b[0m│\u001b[35m \u001b[0m\u001b[35meva02_large_patch14_448.mim_in22k_ft_in1k      \u001b[0m\u001b[35m \u001b[0m│\u001b[32m \u001b[0m\u001b[32mimage --> class \u001b[0m\u001b[32m \u001b[0m│\n",
       "│\u001b[36m \u001b[0m\u001b[36mtimm   \u001b[0m\u001b[36m \u001b[0m│\u001b[35m \u001b[0m\u001b[35meva_giant_patch14_336.m30m_ft_in22k_in1k       \u001b[0m\u001b[35m \u001b[0m│\u001b[32m \u001b[0m\u001b[32mimage --> class \u001b[0m\u001b[32m \u001b[0m│\n",
       "│\u001b[36m \u001b[0m\u001b[36mtimm   \u001b[0m\u001b[36m \u001b[0m│\u001b[35m \u001b[0m\u001b[35meva02_large_patch14_448.mim_m38m_ft_in1k       \u001b[0m\u001b[35m \u001b[0m│\u001b[32m \u001b[0m\u001b[32mimage --> class \u001b[0m\u001b[32m \u001b[0m│\n",
       "│\u001b[36m \u001b[0m\u001b[36mtimm   \u001b[0m\u001b[36m \u001b[0m│\u001b[35m \u001b[0m\u001b[35meva_giant_patch14_336.clip_ft_in1k             \u001b[0m\u001b[35m \u001b[0m│\u001b[32m \u001b[0m\u001b[32mimage --> class \u001b[0m\u001b[32m \u001b[0m│\n",
       "│\u001b[36m \u001b[0m\u001b[36mtimm   \u001b[0m\u001b[36m \u001b[0m│\u001b[35m \u001b[0m\u001b[35meva_large_patch14_336.in22k_ft_in22k_in1k      \u001b[0m\u001b[35m \u001b[0m│\u001b[32m \u001b[0m\u001b[32mimage --> class \u001b[0m\u001b[32m \u001b[0m│\n",
       "│\u001b[36m \u001b[0m\u001b[36mtimm   \u001b[0m\u001b[36m \u001b[0m│\u001b[35m \u001b[0m\u001b[35meva_giant_patch14_224.clip_ft_in1k             \u001b[0m\u001b[35m \u001b[0m│\u001b[32m \u001b[0m\u001b[32mimage --> class \u001b[0m\u001b[32m \u001b[0m│\n",
       "│\u001b[36m \u001b[0m\u001b[36mtimm   \u001b[0m\u001b[36m \u001b[0m│\u001b[35m \u001b[0m\u001b[35meva_large_patch14_336.in22k_ft_in1k            \u001b[0m\u001b[35m \u001b[0m│\u001b[32m \u001b[0m\u001b[32mimage --> class \u001b[0m\u001b[32m \u001b[0m│\n",
       "│\u001b[36m \u001b[0m\u001b[36mtimm   \u001b[0m\u001b[36m \u001b[0m│\u001b[35m \u001b[0m\u001b[35meva02_base_patch14_448.mim_in22k_ft_in22k_in1k \u001b[0m\u001b[35m \u001b[0m│\u001b[32m \u001b[0m\u001b[32mimage --> class \u001b[0m\u001b[32m \u001b[0m│\n",
       "│\u001b[36m \u001b[0m\u001b[36mtimm   \u001b[0m\u001b[36m \u001b[0m│\u001b[35m \u001b[0m\u001b[35meva_large_patch14_196.in22k_ft_in22k_in1k      \u001b[0m\u001b[35m \u001b[0m│\u001b[32m \u001b[0m\u001b[32mimage --> class \u001b[0m\u001b[32m \u001b[0m│\n",
       "│\u001b[36m \u001b[0m\u001b[36mtimm   \u001b[0m\u001b[36m \u001b[0m│\u001b[35m \u001b[0m\u001b[35meva02_base_patch14_448.mim_in22k_ft_in1k       \u001b[0m\u001b[35m \u001b[0m│\u001b[32m \u001b[0m\u001b[32mimage --> class \u001b[0m\u001b[32m \u001b[0m│\n",
       "│\u001b[36m \u001b[0m\u001b[36mtimm   \u001b[0m\u001b[36m \u001b[0m│\u001b[35m \u001b[0m\u001b[35meva_large_patch14_196.in22k_ft_in1k            \u001b[0m\u001b[35m \u001b[0m│\u001b[32m \u001b[0m\u001b[32mimage --> class \u001b[0m\u001b[32m \u001b[0m│\n",
       "│\u001b[36m \u001b[0m\u001b[36mtimm   \u001b[0m\u001b[36m \u001b[0m│\u001b[35m \u001b[0m\u001b[35meva02_small_patch14_336.mim_in22k_ft_in1k      \u001b[0m\u001b[35m \u001b[0m│\u001b[32m \u001b[0m\u001b[32mimage --> class \u001b[0m\u001b[32m \u001b[0m│\n",
       "│\u001b[36m \u001b[0m\u001b[36mtimm   \u001b[0m\u001b[36m \u001b[0m│\u001b[35m \u001b[0m\u001b[35meva02_tiny_patch14_336.mim_in22k_ft_in1k       \u001b[0m\u001b[35m \u001b[0m│\u001b[32m \u001b[0m\u001b[32mimage --> class \u001b[0m\u001b[32m \u001b[0m│\n",
       "└─────────┴─────────────────────────────────────────────────┴──────────────────┘\n"
      ]
     },
     "metadata": {},
     "output_type": "display_data"
    }
   ],
   "source": [
    "import xinfer\n",
    "\n",
    "xinfer.list_models(\"eva\")\n"
   ]
  },
  {
   "cell_type": "code",
   "execution_count": 2,
   "metadata": {},
   "outputs": [
    {
     "name": "stderr",
     "output_type": "stream",
     "text": [
      "\u001b[32m2024-10-11 17:36:40.957\u001b[0m | \u001b[1mINFO    \u001b[0m | \u001b[36mxinfer.timm.timm_model\u001b[0m:\u001b[36m__init__\u001b[0m:\u001b[36m17\u001b[0m - \u001b[1mLoading model: mobilenetv2_050.lamb_in1k\u001b[0m\n",
      "\u001b[32m2024-10-11 17:36:40.957\u001b[0m | \u001b[1mINFO    \u001b[0m | \u001b[36mxinfer.timm.timm_model\u001b[0m:\u001b[36mload_model\u001b[0m:\u001b[36m21\u001b[0m - \u001b[1mLoading model: mobilenetv2_050.lamb_in1k\u001b[0m\n",
      "\u001b[32m2024-10-11 17:36:41.725\u001b[0m | \u001b[1mINFO    \u001b[0m | \u001b[36mxinfer.timm.timm_model\u001b[0m:\u001b[36minference\u001b[0m:\u001b[36m27\u001b[0m - \u001b[1mRunning inference on https://ultralytics.com/images/bus.jpg\u001b[0m\n"
     ]
    }
   ],
   "source": [
    "model = xinfer.create_model(\"mobilenetv2_050.lamb_in1k\", \"timm\")\n",
    "\n",
    "result = model.inference(\"https://ultralytics.com/images/bus.jpg\", top_k=10)"
   ]
  },
  {
   "cell_type": "code",
   "execution_count": 3,
   "metadata": {},
   "outputs": [
    {
     "data": {
      "text/plain": [
       "[{'class': 'minibus', 'id': 654, 'confidence': 62.94279098510742},\n",
       " {'class': 'police van, police wagon, paddy wagon, patrol wagon, wagon, black Maria',\n",
       "  'id': 734,\n",
       "  'confidence': 8.970001220703125},\n",
       " {'class': 'trolleybus, trolley coach, trackless trolley',\n",
       "  'id': 874,\n",
       "  'confidence': 4.9347052574157715},\n",
       " {'class': 'ambulance', 'id': 407, 'confidence': 2.7388036251068115},\n",
       " {'class': 'streetcar, tram, tramcar, trolley, trolley car',\n",
       "  'id': 829,\n",
       "  'confidence': 1.687123417854309},\n",
       " {'class': 'jinrikisha, ricksha, rickshaw',\n",
       "  'id': 612,\n",
       "  'confidence': 1.6692038774490356},\n",
       " {'class': 'passenger car, coach, carriage',\n",
       "  'id': 705,\n",
       "  'confidence': 1.348435401916504},\n",
       " {'class': 'recreational vehicle, RV, R.V.',\n",
       "  'id': 757,\n",
       "  'confidence': 1.2413547039031982},\n",
       " {'class': 'minivan', 'id': 656, 'confidence': 0.5516668558120728},\n",
       " {'class': 'amphibian, amphibious vehicle',\n",
       "  'id': 408,\n",
       "  'confidence': 0.4996110796928406}]"
      ]
     },
     "execution_count": 3,
     "metadata": {},
     "output_type": "execute_result"
    }
   ],
   "source": [
    "result"
   ]
  },
  {
   "cell_type": "code",
   "execution_count": null,
   "metadata": {},
   "outputs": [],
   "source": []
  }
 ],
 "metadata": {
  "kernelspec": {
   "display_name": "xinfer",
   "language": "python",
   "name": "python3"
  },
  "language_info": {
   "codemirror_mode": {
    "name": "ipython",
    "version": 3
   },
   "file_extension": ".py",
   "mimetype": "text/x-python",
   "name": "python",
   "nbconvert_exporter": "python",
   "pygments_lexer": "ipython3",
   "version": "3.10.15"
  }
 },
 "nbformat": 4,
 "nbformat_minor": 2
}
