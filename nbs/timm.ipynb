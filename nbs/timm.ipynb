{
 "cells": [
  {
   "cell_type": "code",
   "execution_count": 1,
   "metadata": {},
   "outputs": [
    {
     "name": "stderr",
     "output_type": "stream",
     "text": [
      "/home/dnth/mambaforge-pypy3/envs/xinfer-test/lib/python3.11/site-packages/tqdm/auto.py:21: TqdmWarning: IProgress not found. Please update jupyter and ipywidgets. See https://ipywidgets.readthedocs.io/en/stable/user_install.html\n",
      "  from .autonotebook import tqdm as notebook_tqdm\n"
     ]
    },
    {
     "data": {
      "text/html": [
       "<pre style=\"white-space:pre;overflow-x:auto;line-height:normal;font-family:Menlo,'DejaVu Sans Mono',consolas,'Courier New',monospace\"><span style=\"font-style: italic\">                                     Available Models                                     </span>\n",
       "┏━━━━━━━━━━━━━━━━┳━━━━━━━━━━━━━━━━━━━━━━━━━━━━━━━━━━━━━━━━━━━━━━━━━┳━━━━━━━━━━━━━━━━━━━━━┓\n",
       "┃<span style=\"font-weight: bold\"> Implementation </span>┃<span style=\"font-weight: bold\"> Model ID                                        </span>┃<span style=\"font-weight: bold\"> Input --&gt; Output    </span>┃\n",
       "┡━━━━━━━━━━━━━━━━╇━━━━━━━━━━━━━━━━━━━━━━━━━━━━━━━━━━━━━━━━━━━━━━━━━╇━━━━━━━━━━━━━━━━━━━━━┩\n",
       "│<span style=\"color: #008080; text-decoration-color: #008080\"> timm           </span>│<span style=\"color: #800080; text-decoration-color: #800080\"> eva02_large_patch14_448.mim_m38m_ft_in22k_in1k  </span>│<span style=\"color: #008000; text-decoration-color: #008000\"> image --&gt; class     </span>│\n",
       "│<span style=\"color: #008080; text-decoration-color: #008080\"> timm           </span>│<span style=\"color: #800080; text-decoration-color: #800080\"> eva02_large_patch14_448.mim_m38m_ft_in1k        </span>│<span style=\"color: #008000; text-decoration-color: #008000\"> image --&gt; class     </span>│\n",
       "│<span style=\"color: #008080; text-decoration-color: #008080\"> timm           </span>│<span style=\"color: #800080; text-decoration-color: #800080\"> eva02_large_patch14_448.mim_in22k_ft_in22k_in1k </span>│<span style=\"color: #008000; text-decoration-color: #008000\"> image --&gt; class     </span>│\n",
       "│<span style=\"color: #008080; text-decoration-color: #008080\"> timm           </span>│<span style=\"color: #800080; text-decoration-color: #800080\"> eva02_large_patch14_448.mim_in22k_ft_in1k       </span>│<span style=\"color: #008000; text-decoration-color: #008000\"> image --&gt; class     </span>│\n",
       "│<span style=\"color: #008080; text-decoration-color: #008080\"> timm           </span>│<span style=\"color: #800080; text-decoration-color: #800080\"> eva02_base_patch14_448.mim_in22k_ft_in22k_in1k  </span>│<span style=\"color: #008000; text-decoration-color: #008000\"> image --&gt; class     </span>│\n",
       "│<span style=\"color: #008080; text-decoration-color: #008080\"> timm           </span>│<span style=\"color: #800080; text-decoration-color: #800080\"> eva02_base_patch14_448.mim_in22k_ft_in1k        </span>│<span style=\"color: #008000; text-decoration-color: #008000\"> image --&gt; class     </span>│\n",
       "│<span style=\"color: #008080; text-decoration-color: #008080\"> timm           </span>│<span style=\"color: #800080; text-decoration-color: #800080\"> eva02_small_patch14_336.mim_in22k_ft_in1k       </span>│<span style=\"color: #008000; text-decoration-color: #008000\"> image --&gt; class     </span>│\n",
       "│<span style=\"color: #008080; text-decoration-color: #008080\"> timm           </span>│<span style=\"color: #800080; text-decoration-color: #800080\"> eva02_tiny_patch14_336.mim_in22k_ft_in1k        </span>│<span style=\"color: #008000; text-decoration-color: #008000\"> image --&gt; class     </span>│\n",
       "│<span style=\"color: #008080; text-decoration-color: #008080\"> transformers   </span>│<span style=\"color: #800080; text-decoration-color: #800080\"> Salesforce/blip2-opt-6.7b-coco                  </span>│<span style=\"color: #008000; text-decoration-color: #008000\"> image-text --&gt; text </span>│\n",
       "│<span style=\"color: #008080; text-decoration-color: #008080\"> transformers   </span>│<span style=\"color: #800080; text-decoration-color: #800080\"> Salesforce/blip2-flan-t5-xxl                    </span>│<span style=\"color: #008000; text-decoration-color: #008000\"> image-text --&gt; text </span>│\n",
       "│<span style=\"color: #008080; text-decoration-color: #008080\"> transformers   </span>│<span style=\"color: #800080; text-decoration-color: #800080\"> Salesforce/blip2-opt-6.7b                       </span>│<span style=\"color: #008000; text-decoration-color: #008000\"> image-text --&gt; text </span>│\n",
       "│<span style=\"color: #008080; text-decoration-color: #008080\"> transformers   </span>│<span style=\"color: #800080; text-decoration-color: #800080\"> Salesforce/blip2-opt-2.7b                       </span>│<span style=\"color: #008000; text-decoration-color: #008000\"> image-text --&gt; text </span>│\n",
       "│<span style=\"color: #008080; text-decoration-color: #008080\"> transformers   </span>│<span style=\"color: #800080; text-decoration-color: #800080\"> vikhyatk/moondream2                             </span>│<span style=\"color: #008000; text-decoration-color: #008000\"> image-text --&gt; text </span>│\n",
       "│<span style=\"color: #008080; text-decoration-color: #008080\"> ultralytics    </span>│<span style=\"color: #800080; text-decoration-color: #800080\"> yolov8x                                         </span>│<span style=\"color: #008000; text-decoration-color: #008000\"> image --&gt; objects   </span>│\n",
       "│<span style=\"color: #008080; text-decoration-color: #008080\"> ultralytics    </span>│<span style=\"color: #800080; text-decoration-color: #800080\"> yolov8m                                         </span>│<span style=\"color: #008000; text-decoration-color: #008000\"> image --&gt; objects   </span>│\n",
       "│<span style=\"color: #008080; text-decoration-color: #008080\"> ultralytics    </span>│<span style=\"color: #800080; text-decoration-color: #800080\"> yolov8l                                         </span>│<span style=\"color: #008000; text-decoration-color: #008000\"> image --&gt; objects   </span>│\n",
       "│<span style=\"color: #008080; text-decoration-color: #008080\"> ultralytics    </span>│<span style=\"color: #800080; text-decoration-color: #800080\"> yolov8s                                         </span>│<span style=\"color: #008000; text-decoration-color: #008000\"> image --&gt; objects   </span>│\n",
       "│<span style=\"color: #008080; text-decoration-color: #008080\"> ultralytics    </span>│<span style=\"color: #800080; text-decoration-color: #800080\"> yolov8n                                         </span>│<span style=\"color: #008000; text-decoration-color: #008000\"> image --&gt; objects   </span>│\n",
       "│<span style=\"color: #008080; text-decoration-color: #008080\"> ultralytics    </span>│<span style=\"color: #800080; text-decoration-color: #800080\"> yolov10x                                        </span>│<span style=\"color: #008000; text-decoration-color: #008000\"> image --&gt; objects   </span>│\n",
       "│<span style=\"color: #008080; text-decoration-color: #008080\"> ultralytics    </span>│<span style=\"color: #800080; text-decoration-color: #800080\"> yolov10m                                        </span>│<span style=\"color: #008000; text-decoration-color: #008000\"> image --&gt; objects   </span>│\n",
       "│<span style=\"color: #008080; text-decoration-color: #008080\"> ...            </span>│<span style=\"color: #800080; text-decoration-color: #800080\"> ...                                             </span>│<span style=\"color: #008000; text-decoration-color: #008000\"> ...                 </span>│\n",
       "│<span style=\"color: #008080; text-decoration-color: #008080\"> ...            </span>│<span style=\"color: #800080; text-decoration-color: #800080\"> ...                                             </span>│<span style=\"color: #008000; text-decoration-color: #008000\"> ...                 </span>│\n",
       "└────────────────┴─────────────────────────────────────────────────┴─────────────────────┘\n",
       "</pre>\n"
      ],
      "text/plain": [
       "\u001b[3m                                     Available Models                                     \u001b[0m\n",
       "┏━━━━━━━━━━━━━━━━┳━━━━━━━━━━━━━━━━━━━━━━━━━━━━━━━━━━━━━━━━━━━━━━━━━┳━━━━━━━━━━━━━━━━━━━━━┓\n",
       "┃\u001b[1m \u001b[0m\u001b[1mImplementation\u001b[0m\u001b[1m \u001b[0m┃\u001b[1m \u001b[0m\u001b[1mModel ID                                       \u001b[0m\u001b[1m \u001b[0m┃\u001b[1m \u001b[0m\u001b[1mInput --> Output   \u001b[0m\u001b[1m \u001b[0m┃\n",
       "┡━━━━━━━━━━━━━━━━╇━━━━━━━━━━━━━━━━━━━━━━━━━━━━━━━━━━━━━━━━━━━━━━━━━╇━━━━━━━━━━━━━━━━━━━━━┩\n",
       "│\u001b[36m \u001b[0m\u001b[36mtimm          \u001b[0m\u001b[36m \u001b[0m│\u001b[35m \u001b[0m\u001b[35meva02_large_patch14_448.mim_m38m_ft_in22k_in1k \u001b[0m\u001b[35m \u001b[0m│\u001b[32m \u001b[0m\u001b[32mimage --> class    \u001b[0m\u001b[32m \u001b[0m│\n",
       "│\u001b[36m \u001b[0m\u001b[36mtimm          \u001b[0m\u001b[36m \u001b[0m│\u001b[35m \u001b[0m\u001b[35meva02_large_patch14_448.mim_m38m_ft_in1k       \u001b[0m\u001b[35m \u001b[0m│\u001b[32m \u001b[0m\u001b[32mimage --> class    \u001b[0m\u001b[32m \u001b[0m│\n",
       "│\u001b[36m \u001b[0m\u001b[36mtimm          \u001b[0m\u001b[36m \u001b[0m│\u001b[35m \u001b[0m\u001b[35meva02_large_patch14_448.mim_in22k_ft_in22k_in1k\u001b[0m\u001b[35m \u001b[0m│\u001b[32m \u001b[0m\u001b[32mimage --> class    \u001b[0m\u001b[32m \u001b[0m│\n",
       "│\u001b[36m \u001b[0m\u001b[36mtimm          \u001b[0m\u001b[36m \u001b[0m│\u001b[35m \u001b[0m\u001b[35meva02_large_patch14_448.mim_in22k_ft_in1k      \u001b[0m\u001b[35m \u001b[0m│\u001b[32m \u001b[0m\u001b[32mimage --> class    \u001b[0m\u001b[32m \u001b[0m│\n",
       "│\u001b[36m \u001b[0m\u001b[36mtimm          \u001b[0m\u001b[36m \u001b[0m│\u001b[35m \u001b[0m\u001b[35meva02_base_patch14_448.mim_in22k_ft_in22k_in1k \u001b[0m\u001b[35m \u001b[0m│\u001b[32m \u001b[0m\u001b[32mimage --> class    \u001b[0m\u001b[32m \u001b[0m│\n",
       "│\u001b[36m \u001b[0m\u001b[36mtimm          \u001b[0m\u001b[36m \u001b[0m│\u001b[35m \u001b[0m\u001b[35meva02_base_patch14_448.mim_in22k_ft_in1k       \u001b[0m\u001b[35m \u001b[0m│\u001b[32m \u001b[0m\u001b[32mimage --> class    \u001b[0m\u001b[32m \u001b[0m│\n",
       "│\u001b[36m \u001b[0m\u001b[36mtimm          \u001b[0m\u001b[36m \u001b[0m│\u001b[35m \u001b[0m\u001b[35meva02_small_patch14_336.mim_in22k_ft_in1k      \u001b[0m\u001b[35m \u001b[0m│\u001b[32m \u001b[0m\u001b[32mimage --> class    \u001b[0m\u001b[32m \u001b[0m│\n",
       "│\u001b[36m \u001b[0m\u001b[36mtimm          \u001b[0m\u001b[36m \u001b[0m│\u001b[35m \u001b[0m\u001b[35meva02_tiny_patch14_336.mim_in22k_ft_in1k       \u001b[0m\u001b[35m \u001b[0m│\u001b[32m \u001b[0m\u001b[32mimage --> class    \u001b[0m\u001b[32m \u001b[0m│\n",
       "│\u001b[36m \u001b[0m\u001b[36mtransformers  \u001b[0m\u001b[36m \u001b[0m│\u001b[35m \u001b[0m\u001b[35mSalesforce/blip2-opt-6.7b-coco                 \u001b[0m\u001b[35m \u001b[0m│\u001b[32m \u001b[0m\u001b[32mimage-text --> text\u001b[0m\u001b[32m \u001b[0m│\n",
       "│\u001b[36m \u001b[0m\u001b[36mtransformers  \u001b[0m\u001b[36m \u001b[0m│\u001b[35m \u001b[0m\u001b[35mSalesforce/blip2-flan-t5-xxl                   \u001b[0m\u001b[35m \u001b[0m│\u001b[32m \u001b[0m\u001b[32mimage-text --> text\u001b[0m\u001b[32m \u001b[0m│\n",
       "│\u001b[36m \u001b[0m\u001b[36mtransformers  \u001b[0m\u001b[36m \u001b[0m│\u001b[35m \u001b[0m\u001b[35mSalesforce/blip2-opt-6.7b                      \u001b[0m\u001b[35m \u001b[0m│\u001b[32m \u001b[0m\u001b[32mimage-text --> text\u001b[0m\u001b[32m \u001b[0m│\n",
       "│\u001b[36m \u001b[0m\u001b[36mtransformers  \u001b[0m\u001b[36m \u001b[0m│\u001b[35m \u001b[0m\u001b[35mSalesforce/blip2-opt-2.7b                      \u001b[0m\u001b[35m \u001b[0m│\u001b[32m \u001b[0m\u001b[32mimage-text --> text\u001b[0m\u001b[32m \u001b[0m│\n",
       "│\u001b[36m \u001b[0m\u001b[36mtransformers  \u001b[0m\u001b[36m \u001b[0m│\u001b[35m \u001b[0m\u001b[35mvikhyatk/moondream2                            \u001b[0m\u001b[35m \u001b[0m│\u001b[32m \u001b[0m\u001b[32mimage-text --> text\u001b[0m\u001b[32m \u001b[0m│\n",
       "│\u001b[36m \u001b[0m\u001b[36multralytics   \u001b[0m\u001b[36m \u001b[0m│\u001b[35m \u001b[0m\u001b[35myolov8x                                        \u001b[0m\u001b[35m \u001b[0m│\u001b[32m \u001b[0m\u001b[32mimage --> objects  \u001b[0m\u001b[32m \u001b[0m│\n",
       "│\u001b[36m \u001b[0m\u001b[36multralytics   \u001b[0m\u001b[36m \u001b[0m│\u001b[35m \u001b[0m\u001b[35myolov8m                                        \u001b[0m\u001b[35m \u001b[0m│\u001b[32m \u001b[0m\u001b[32mimage --> objects  \u001b[0m\u001b[32m \u001b[0m│\n",
       "│\u001b[36m \u001b[0m\u001b[36multralytics   \u001b[0m\u001b[36m \u001b[0m│\u001b[35m \u001b[0m\u001b[35myolov8l                                        \u001b[0m\u001b[35m \u001b[0m│\u001b[32m \u001b[0m\u001b[32mimage --> objects  \u001b[0m\u001b[32m \u001b[0m│\n",
       "│\u001b[36m \u001b[0m\u001b[36multralytics   \u001b[0m\u001b[36m \u001b[0m│\u001b[35m \u001b[0m\u001b[35myolov8s                                        \u001b[0m\u001b[35m \u001b[0m│\u001b[32m \u001b[0m\u001b[32mimage --> objects  \u001b[0m\u001b[32m \u001b[0m│\n",
       "│\u001b[36m \u001b[0m\u001b[36multralytics   \u001b[0m\u001b[36m \u001b[0m│\u001b[35m \u001b[0m\u001b[35myolov8n                                        \u001b[0m\u001b[35m \u001b[0m│\u001b[32m \u001b[0m\u001b[32mimage --> objects  \u001b[0m\u001b[32m \u001b[0m│\n",
       "│\u001b[36m \u001b[0m\u001b[36multralytics   \u001b[0m\u001b[36m \u001b[0m│\u001b[35m \u001b[0m\u001b[35myolov10x                                       \u001b[0m\u001b[35m \u001b[0m│\u001b[32m \u001b[0m\u001b[32mimage --> objects  \u001b[0m\u001b[32m \u001b[0m│\n",
       "│\u001b[36m \u001b[0m\u001b[36multralytics   \u001b[0m\u001b[36m \u001b[0m│\u001b[35m \u001b[0m\u001b[35myolov10m                                       \u001b[0m\u001b[35m \u001b[0m│\u001b[32m \u001b[0m\u001b[32mimage --> objects  \u001b[0m\u001b[32m \u001b[0m│\n",
       "│\u001b[36m \u001b[0m\u001b[36m...           \u001b[0m\u001b[36m \u001b[0m│\u001b[35m \u001b[0m\u001b[35m...                                            \u001b[0m\u001b[35m \u001b[0m│\u001b[32m \u001b[0m\u001b[32m...                \u001b[0m\u001b[32m \u001b[0m│\n",
       "│\u001b[36m \u001b[0m\u001b[36m...           \u001b[0m\u001b[36m \u001b[0m│\u001b[35m \u001b[0m\u001b[35m...                                            \u001b[0m\u001b[35m \u001b[0m│\u001b[32m \u001b[0m\u001b[32m...                \u001b[0m\u001b[32m \u001b[0m│\n",
       "└────────────────┴─────────────────────────────────────────────────┴─────────────────────┘\n"
      ]
     },
     "metadata": {},
     "output_type": "display_data"
    }
   ],
   "source": [
    "import xinfer\n",
    "\n",
    "xinfer.list_models()"
   ]
  },
  {
   "cell_type": "code",
   "execution_count": 2,
   "metadata": {},
   "outputs": [
    {
     "name": "stderr",
     "output_type": "stream",
     "text": [
      "\u001b[32m2024-10-17 03:08:04.465\u001b[0m | \u001b[1mINFO    \u001b[0m | \u001b[36mxinfer.timm.timm_model\u001b[0m:\u001b[36m__init__\u001b[0m:\u001b[36m19\u001b[0m - \u001b[1mModel: eva02_small_patch14_336.mim_in22k_ft_in1k\u001b[0m\n",
      "\u001b[32m2024-10-17 03:08:04.465\u001b[0m | \u001b[1mINFO    \u001b[0m | \u001b[36mxinfer.timm.timm_model\u001b[0m:\u001b[36m__init__\u001b[0m:\u001b[36m20\u001b[0m - \u001b[1mDevice: cuda\u001b[0m\n",
      "\u001b[32m2024-10-17 03:08:04.466\u001b[0m | \u001b[1mINFO    \u001b[0m | \u001b[36mxinfer.timm.timm_model\u001b[0m:\u001b[36m__init__\u001b[0m:\u001b[36m21\u001b[0m - \u001b[1mDtype: bfloat16\u001b[0m\n",
      "\u001b[32m2024-10-17 03:08:04.466\u001b[0m | \u001b[1mINFO    \u001b[0m | \u001b[36mxinfer.timm.timm_model\u001b[0m:\u001b[36mload_model\u001b[0m:\u001b[36m36\u001b[0m - \u001b[1mLoading model: eva02_small_patch14_336.mim_in22k_ft_in1k\u001b[0m\n"
     ]
    }
   ],
   "source": [
    "model = xinfer.create_model(\"eva02_small_patch14_336.mim_in22k_ft_in1k\", device=\"cuda\", dtype=\"bfloat16\")"
   ]
  },
  {
   "cell_type": "code",
   "execution_count": 3,
   "metadata": {},
   "outputs": [
    {
     "name": "stdout",
     "output_type": "stream",
     "text": [
      "* Running on local URL:  http://127.0.0.1:7861\n",
      "\n",
      "To create a public link, set `share=True` in `launch()`.\n"
     ]
    },
    {
     "data": {
      "text/html": [
       "<div><iframe src=\"http://127.0.0.1:7861/\" width=\"100%\" height=\"500\" allow=\"autoplay; camera; microphone; clipboard-read; clipboard-write;\" frameborder=\"0\" allowfullscreen></iframe></div>"
      ],
      "text/plain": [
       "<IPython.core.display.HTML object>"
      ]
     },
     "metadata": {},
     "output_type": "display_data"
    },
    {
     "name": "stderr",
     "output_type": "stream",
     "text": [
      "W1017 03:08:23.141000 133640289781312 torch/fx/experimental/symbolic_shapes.py:4449] [0/0] xindex is not in var_ranges, defaulting to unknown range.\n"
     ]
    }
   ],
   "source": [
    "model.launch_gradio()"
   ]
  },
  {
   "cell_type": "code",
   "execution_count": null,
   "metadata": {},
   "outputs": [],
   "source": [
    "model.infer(\"https://ultralytics.com/images/bus.jpg\", top_k=10)"
   ]
  },
  {
   "cell_type": "code",
   "execution_count": null,
   "metadata": {},
   "outputs": [],
   "source": [
    "model.stats.print_stats()"
   ]
  },
  {
   "cell_type": "code",
   "execution_count": null,
   "metadata": {},
   "outputs": [],
   "source": [
    "model.infer_batch([\"https://ultralytics.com/images/bus.jpg\", \"https://ultralytics.com/images/bus.jpg\"], top_k=10)"
   ]
  },
  {
   "cell_type": "code",
   "execution_count": null,
   "metadata": {},
   "outputs": [],
   "source": [
    "from xinfer.timm import TimmModel\n",
    "\n",
    "model = TimmModel(\"resnet18\", device=\"cuda\", dtype=\"bfloat16\")\n",
    "model = xinfer.create_model(model)"
   ]
  },
  {
   "cell_type": "code",
   "execution_count": null,
   "metadata": {},
   "outputs": [],
   "source": [
    "# model = xinfer.create_model(\"eva02_tiny_patch14_336.mim_in22k_ft_in1k\")\n",
    "\n",
    "result = model.infer(\"../assets/xinfer.jpg\", top_k=10, verbose=True)"
   ]
  },
  {
   "cell_type": "code",
   "execution_count": null,
   "metadata": {},
   "outputs": [],
   "source": [
    "result"
   ]
  },
  {
   "cell_type": "code",
   "execution_count": null,
   "metadata": {},
   "outputs": [],
   "source": []
  }
 ],
 "metadata": {
  "kernelspec": {
   "display_name": "xinfer",
   "language": "python",
   "name": "python3"
  },
  "language_info": {
   "codemirror_mode": {
    "name": "ipython",
    "version": 3
   },
   "file_extension": ".py",
   "mimetype": "text/x-python",
   "name": "python",
   "nbconvert_exporter": "python",
   "pygments_lexer": "ipython3",
   "version": "3.11.10"
  }
 },
 "nbformat": 4,
 "nbformat_minor": 2
}
