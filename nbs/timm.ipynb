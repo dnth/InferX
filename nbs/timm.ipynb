{
 "cells": [
  {
   "cell_type": "code",
   "execution_count": 6,
   "metadata": {},
   "outputs": [
    {
     "data": {
      "text/html": [
       "<pre style=\"white-space:pre;overflow-x:auto;line-height:normal;font-family:Menlo,'DejaVu Sans Mono',consolas,'Courier New',monospace\"><span style=\"font-style: italic\">                                Available Models                                </span>\n",
       "┏━━━━━━━━━┳━━━━━━━━━━━━━━━━━━━━━━━━━━━━━━━━━━━━━━━━━━━━━━━━━┳━━━━━━━━━━━━━━━━━━┓\n",
       "┃<span style=\"font-weight: bold\"> Backend </span>┃<span style=\"font-weight: bold\"> Model ID                                        </span>┃<span style=\"font-weight: bold\"> Input --&gt; Output </span>┃\n",
       "┡━━━━━━━━━╇━━━━━━━━━━━━━━━━━━━━━━━━━━━━━━━━━━━━━━━━━━━━━━━━━╇━━━━━━━━━━━━━━━━━━┩\n",
       "│<span style=\"color: #008080; text-decoration-color: #008080\"> timm    </span>│<span style=\"color: #800080; text-decoration-color: #800080\"> eva02_large_patch14_448.mim_m38m_ft_in22k_in1k  </span>│<span style=\"color: #008000; text-decoration-color: #008000\"> image --&gt; class  </span>│\n",
       "│<span style=\"color: #008080; text-decoration-color: #008080\"> timm    </span>│<span style=\"color: #800080; text-decoration-color: #800080\"> eva02_large_patch14_448.mim_in22k_ft_in22k_in1k </span>│<span style=\"color: #008000; text-decoration-color: #008000\"> image --&gt; class  </span>│\n",
       "│<span style=\"color: #008080; text-decoration-color: #008080\"> timm    </span>│<span style=\"color: #800080; text-decoration-color: #800080\"> eva_giant_patch14_560.m30m_ft_in22k_in1k        </span>│<span style=\"color: #008000; text-decoration-color: #008000\"> image --&gt; class  </span>│\n",
       "│<span style=\"color: #008080; text-decoration-color: #008080\"> timm    </span>│<span style=\"color: #800080; text-decoration-color: #800080\"> eva02_large_patch14_448.mim_in22k_ft_in1k       </span>│<span style=\"color: #008000; text-decoration-color: #008000\"> image --&gt; class  </span>│\n",
       "│<span style=\"color: #008080; text-decoration-color: #008080\"> timm    </span>│<span style=\"color: #800080; text-decoration-color: #800080\"> eva_giant_patch14_336.m30m_ft_in22k_in1k        </span>│<span style=\"color: #008000; text-decoration-color: #008000\"> image --&gt; class  </span>│\n",
       "│<span style=\"color: #008080; text-decoration-color: #008080\"> timm    </span>│<span style=\"color: #800080; text-decoration-color: #800080\"> eva02_large_patch14_448.mim_m38m_ft_in1k        </span>│<span style=\"color: #008000; text-decoration-color: #008000\"> image --&gt; class  </span>│\n",
       "│<span style=\"color: #008080; text-decoration-color: #008080\"> timm    </span>│<span style=\"color: #800080; text-decoration-color: #800080\"> eva_giant_patch14_336.clip_ft_in1k              </span>│<span style=\"color: #008000; text-decoration-color: #008000\"> image --&gt; class  </span>│\n",
       "│<span style=\"color: #008080; text-decoration-color: #008080\"> timm    </span>│<span style=\"color: #800080; text-decoration-color: #800080\"> eva_large_patch14_336.in22k_ft_in22k_in1k       </span>│<span style=\"color: #008000; text-decoration-color: #008000\"> image --&gt; class  </span>│\n",
       "│<span style=\"color: #008080; text-decoration-color: #008080\"> timm    </span>│<span style=\"color: #800080; text-decoration-color: #800080\"> eva_giant_patch14_224.clip_ft_in1k              </span>│<span style=\"color: #008000; text-decoration-color: #008000\"> image --&gt; class  </span>│\n",
       "│<span style=\"color: #008080; text-decoration-color: #008080\"> timm    </span>│<span style=\"color: #800080; text-decoration-color: #800080\"> eva_large_patch14_336.in22k_ft_in1k             </span>│<span style=\"color: #008000; text-decoration-color: #008000\"> image --&gt; class  </span>│\n",
       "│<span style=\"color: #008080; text-decoration-color: #008080\"> timm    </span>│<span style=\"color: #800080; text-decoration-color: #800080\"> eva02_base_patch14_448.mim_in22k_ft_in22k_in1k  </span>│<span style=\"color: #008000; text-decoration-color: #008000\"> image --&gt; class  </span>│\n",
       "│<span style=\"color: #008080; text-decoration-color: #008080\"> timm    </span>│<span style=\"color: #800080; text-decoration-color: #800080\"> eva_large_patch14_196.in22k_ft_in22k_in1k       </span>│<span style=\"color: #008000; text-decoration-color: #008000\"> image --&gt; class  </span>│\n",
       "│<span style=\"color: #008080; text-decoration-color: #008080\"> timm    </span>│<span style=\"color: #800080; text-decoration-color: #800080\"> eva02_base_patch14_448.mim_in22k_ft_in1k        </span>│<span style=\"color: #008000; text-decoration-color: #008000\"> image --&gt; class  </span>│\n",
       "│<span style=\"color: #008080; text-decoration-color: #008080\"> timm    </span>│<span style=\"color: #800080; text-decoration-color: #800080\"> eva_large_patch14_196.in22k_ft_in1k             </span>│<span style=\"color: #008000; text-decoration-color: #008000\"> image --&gt; class  </span>│\n",
       "│<span style=\"color: #008080; text-decoration-color: #008080\"> timm    </span>│<span style=\"color: #800080; text-decoration-color: #800080\"> eva02_small_patch14_336.mim_in22k_ft_in1k       </span>│<span style=\"color: #008000; text-decoration-color: #008000\"> image --&gt; class  </span>│\n",
       "│<span style=\"color: #008080; text-decoration-color: #008080\"> timm    </span>│<span style=\"color: #800080; text-decoration-color: #800080\"> eva02_tiny_patch14_336.mim_in22k_ft_in1k        </span>│<span style=\"color: #008000; text-decoration-color: #008000\"> image --&gt; class  </span>│\n",
       "└─────────┴─────────────────────────────────────────────────┴──────────────────┘\n",
       "</pre>\n"
      ],
      "text/plain": [
       "\u001b[3m                                Available Models                                \u001b[0m\n",
       "┏━━━━━━━━━┳━━━━━━━━━━━━━━━━━━━━━━━━━━━━━━━━━━━━━━━━━━━━━━━━━┳━━━━━━━━━━━━━━━━━━┓\n",
       "┃\u001b[1m \u001b[0m\u001b[1mBackend\u001b[0m\u001b[1m \u001b[0m┃\u001b[1m \u001b[0m\u001b[1mModel ID                                       \u001b[0m\u001b[1m \u001b[0m┃\u001b[1m \u001b[0m\u001b[1mInput --> Output\u001b[0m\u001b[1m \u001b[0m┃\n",
       "┡━━━━━━━━━╇━━━━━━━━━━━━━━━━━━━━━━━━━━━━━━━━━━━━━━━━━━━━━━━━━╇━━━━━━━━━━━━━━━━━━┩\n",
       "│\u001b[36m \u001b[0m\u001b[36mtimm   \u001b[0m\u001b[36m \u001b[0m│\u001b[35m \u001b[0m\u001b[35meva02_large_patch14_448.mim_m38m_ft_in22k_in1k \u001b[0m\u001b[35m \u001b[0m│\u001b[32m \u001b[0m\u001b[32mimage --> class \u001b[0m\u001b[32m \u001b[0m│\n",
       "│\u001b[36m \u001b[0m\u001b[36mtimm   \u001b[0m\u001b[36m \u001b[0m│\u001b[35m \u001b[0m\u001b[35meva02_large_patch14_448.mim_in22k_ft_in22k_in1k\u001b[0m\u001b[35m \u001b[0m│\u001b[32m \u001b[0m\u001b[32mimage --> class \u001b[0m\u001b[32m \u001b[0m│\n",
       "│\u001b[36m \u001b[0m\u001b[36mtimm   \u001b[0m\u001b[36m \u001b[0m│\u001b[35m \u001b[0m\u001b[35meva_giant_patch14_560.m30m_ft_in22k_in1k       \u001b[0m\u001b[35m \u001b[0m│\u001b[32m \u001b[0m\u001b[32mimage --> class \u001b[0m\u001b[32m \u001b[0m│\n",
       "│\u001b[36m \u001b[0m\u001b[36mtimm   \u001b[0m\u001b[36m \u001b[0m│\u001b[35m \u001b[0m\u001b[35meva02_large_patch14_448.mim_in22k_ft_in1k      \u001b[0m\u001b[35m \u001b[0m│\u001b[32m \u001b[0m\u001b[32mimage --> class \u001b[0m\u001b[32m \u001b[0m│\n",
       "│\u001b[36m \u001b[0m\u001b[36mtimm   \u001b[0m\u001b[36m \u001b[0m│\u001b[35m \u001b[0m\u001b[35meva_giant_patch14_336.m30m_ft_in22k_in1k       \u001b[0m\u001b[35m \u001b[0m│\u001b[32m \u001b[0m\u001b[32mimage --> class \u001b[0m\u001b[32m \u001b[0m│\n",
       "│\u001b[36m \u001b[0m\u001b[36mtimm   \u001b[0m\u001b[36m \u001b[0m│\u001b[35m \u001b[0m\u001b[35meva02_large_patch14_448.mim_m38m_ft_in1k       \u001b[0m\u001b[35m \u001b[0m│\u001b[32m \u001b[0m\u001b[32mimage --> class \u001b[0m\u001b[32m \u001b[0m│\n",
       "│\u001b[36m \u001b[0m\u001b[36mtimm   \u001b[0m\u001b[36m \u001b[0m│\u001b[35m \u001b[0m\u001b[35meva_giant_patch14_336.clip_ft_in1k             \u001b[0m\u001b[35m \u001b[0m│\u001b[32m \u001b[0m\u001b[32mimage --> class \u001b[0m\u001b[32m \u001b[0m│\n",
       "│\u001b[36m \u001b[0m\u001b[36mtimm   \u001b[0m\u001b[36m \u001b[0m│\u001b[35m \u001b[0m\u001b[35meva_large_patch14_336.in22k_ft_in22k_in1k      \u001b[0m\u001b[35m \u001b[0m│\u001b[32m \u001b[0m\u001b[32mimage --> class \u001b[0m\u001b[32m \u001b[0m│\n",
       "│\u001b[36m \u001b[0m\u001b[36mtimm   \u001b[0m\u001b[36m \u001b[0m│\u001b[35m \u001b[0m\u001b[35meva_giant_patch14_224.clip_ft_in1k             \u001b[0m\u001b[35m \u001b[0m│\u001b[32m \u001b[0m\u001b[32mimage --> class \u001b[0m\u001b[32m \u001b[0m│\n",
       "│\u001b[36m \u001b[0m\u001b[36mtimm   \u001b[0m\u001b[36m \u001b[0m│\u001b[35m \u001b[0m\u001b[35meva_large_patch14_336.in22k_ft_in1k            \u001b[0m\u001b[35m \u001b[0m│\u001b[32m \u001b[0m\u001b[32mimage --> class \u001b[0m\u001b[32m \u001b[0m│\n",
       "│\u001b[36m \u001b[0m\u001b[36mtimm   \u001b[0m\u001b[36m \u001b[0m│\u001b[35m \u001b[0m\u001b[35meva02_base_patch14_448.mim_in22k_ft_in22k_in1k \u001b[0m\u001b[35m \u001b[0m│\u001b[32m \u001b[0m\u001b[32mimage --> class \u001b[0m\u001b[32m \u001b[0m│\n",
       "│\u001b[36m \u001b[0m\u001b[36mtimm   \u001b[0m\u001b[36m \u001b[0m│\u001b[35m \u001b[0m\u001b[35meva_large_patch14_196.in22k_ft_in22k_in1k      \u001b[0m\u001b[35m \u001b[0m│\u001b[32m \u001b[0m\u001b[32mimage --> class \u001b[0m\u001b[32m \u001b[0m│\n",
       "│\u001b[36m \u001b[0m\u001b[36mtimm   \u001b[0m\u001b[36m \u001b[0m│\u001b[35m \u001b[0m\u001b[35meva02_base_patch14_448.mim_in22k_ft_in1k       \u001b[0m\u001b[35m \u001b[0m│\u001b[32m \u001b[0m\u001b[32mimage --> class \u001b[0m\u001b[32m \u001b[0m│\n",
       "│\u001b[36m \u001b[0m\u001b[36mtimm   \u001b[0m\u001b[36m \u001b[0m│\u001b[35m \u001b[0m\u001b[35meva_large_patch14_196.in22k_ft_in1k            \u001b[0m\u001b[35m \u001b[0m│\u001b[32m \u001b[0m\u001b[32mimage --> class \u001b[0m\u001b[32m \u001b[0m│\n",
       "│\u001b[36m \u001b[0m\u001b[36mtimm   \u001b[0m\u001b[36m \u001b[0m│\u001b[35m \u001b[0m\u001b[35meva02_small_patch14_336.mim_in22k_ft_in1k      \u001b[0m\u001b[35m \u001b[0m│\u001b[32m \u001b[0m\u001b[32mimage --> class \u001b[0m\u001b[32m \u001b[0m│\n",
       "│\u001b[36m \u001b[0m\u001b[36mtimm   \u001b[0m\u001b[36m \u001b[0m│\u001b[35m \u001b[0m\u001b[35meva02_tiny_patch14_336.mim_in22k_ft_in1k       \u001b[0m\u001b[35m \u001b[0m│\u001b[32m \u001b[0m\u001b[32mimage --> class \u001b[0m\u001b[32m \u001b[0m│\n",
       "└─────────┴─────────────────────────────────────────────────┴──────────────────┘\n"
      ]
     },
     "metadata": {},
     "output_type": "display_data"
    }
   ],
   "source": [
    "import xinfer\n",
    "\n",
    "xinfer.list_models(\"eva\")\n"
   ]
  },
  {
   "cell_type": "code",
   "execution_count": null,
   "metadata": {},
   "outputs": [],
   "source": [
    "model = xinfer.create_model(\"mobilenetv2_050.lamb_in1k\", \"timm\")\n",
    "\n",
    "result = model.inference(\"https://ultralytics.com/images/bus.jpg\", top_k=10)"
   ]
  },
  {
   "cell_type": "code",
   "execution_count": null,
   "metadata": {},
   "outputs": [],
   "source": [
    "result"
   ]
  },
  {
   "cell_type": "code",
   "execution_count": null,
   "metadata": {},
   "outputs": [],
   "source": [
    "import csv\n",
    "from io import StringIO\n",
    "from typing import List\n",
    "\n",
    "import requests\n",
    "\n",
    "\n",
    "def download_model_list() -> List[str]:\n",
    "    # URL of the CSV file\n",
    "    url = \"https://raw.githubusercontent.com/huggingface/pytorch-image-models/6ee638a0953aad999e1ec87310c9543ee5c4aa9e/results/results-imagenet.csv\"\n",
    "\n",
    "    # Download the CSV file\n",
    "    response = requests.get(url)\n",
    "    response.raise_for_status()  # Raise an exception for bad responses\n",
    "\n",
    "    # Parse the CSV content\n",
    "    csv_content = StringIO(response.text)\n",
    "    reader = csv.DictReader(csv_content)\n",
    "\n",
    "    # Extract model names from the 'model' column\n",
    "    model_list = [row[\"model\"] for row in reader if \"model\" in row]\n",
    "\n",
    "    return model_list\n"
   ]
  },
  {
   "cell_type": "code",
   "execution_count": null,
   "metadata": {},
   "outputs": [],
   "source": []
  }
 ],
 "metadata": {
  "kernelspec": {
   "display_name": "xinfer",
   "language": "python",
   "name": "python3"
  },
  "language_info": {
   "codemirror_mode": {
    "name": "ipython",
    "version": 3
   },
   "file_extension": ".py",
   "mimetype": "text/x-python",
   "name": "python",
   "nbconvert_exporter": "python",
   "pygments_lexer": "ipython3",
   "version": "3.10.15"
  }
 },
 "nbformat": 4,
 "nbformat_minor": 2
}
