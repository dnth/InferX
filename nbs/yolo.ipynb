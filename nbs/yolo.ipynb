{
 "cells": [
  {
   "cell_type": "code",
   "execution_count": 1,
   "metadata": {},
   "outputs": [
    {
     "data": {
      "text/html": [
       "<pre style=\"white-space:pre;overflow-x:auto;line-height:normal;font-family:Menlo,'DejaVu Sans Mono',consolas,'Courier New',monospace\"><span style=\"font-style: italic\">               Available Models               </span>\n",
       "┏━━━━━━━━━━━━━┳━━━━━━━━━━┳━━━━━━━━━━━━━━━━━━━┓\n",
       "┃<span style=\"font-weight: bold\"> Backend     </span>┃<span style=\"font-weight: bold\"> Model ID </span>┃<span style=\"font-weight: bold\"> Input --&gt; Output  </span>┃\n",
       "┡━━━━━━━━━━━━━╇━━━━━━━━━━╇━━━━━━━━━━━━━━━━━━━┩\n",
       "│<span style=\"color: #008080; text-decoration-color: #008080\"> ultralytics </span>│<span style=\"color: #800080; text-decoration-color: #800080\"> yolov8n  </span>│<span style=\"color: #008000; text-decoration-color: #008000\"> image --&gt; objects </span>│\n",
       "│<span style=\"color: #008080; text-decoration-color: #008080\"> ultralytics </span>│<span style=\"color: #800080; text-decoration-color: #800080\"> yolov8s  </span>│<span style=\"color: #008000; text-decoration-color: #008000\"> image --&gt; objects </span>│\n",
       "│<span style=\"color: #008080; text-decoration-color: #008080\"> ultralytics </span>│<span style=\"color: #800080; text-decoration-color: #800080\"> yolov8l  </span>│<span style=\"color: #008000; text-decoration-color: #008000\"> image --&gt; objects </span>│\n",
       "│<span style=\"color: #008080; text-decoration-color: #008080\"> ultralytics </span>│<span style=\"color: #800080; text-decoration-color: #800080\"> yolov8m  </span>│<span style=\"color: #008000; text-decoration-color: #008000\"> image --&gt; objects </span>│\n",
       "│<span style=\"color: #008080; text-decoration-color: #008080\"> ultralytics </span>│<span style=\"color: #800080; text-decoration-color: #800080\"> yolov8x  </span>│<span style=\"color: #008000; text-decoration-color: #008000\"> image --&gt; objects </span>│\n",
       "│<span style=\"color: #008080; text-decoration-color: #008080\"> ultralytics </span>│<span style=\"color: #800080; text-decoration-color: #800080\"> yolov10n </span>│<span style=\"color: #008000; text-decoration-color: #008000\"> image --&gt; objects </span>│\n",
       "│<span style=\"color: #008080; text-decoration-color: #008080\"> ultralytics </span>│<span style=\"color: #800080; text-decoration-color: #800080\"> yolov10s </span>│<span style=\"color: #008000; text-decoration-color: #008000\"> image --&gt; objects </span>│\n",
       "│<span style=\"color: #008080; text-decoration-color: #008080\"> ultralytics </span>│<span style=\"color: #800080; text-decoration-color: #800080\"> yolov10m </span>│<span style=\"color: #008000; text-decoration-color: #008000\"> image --&gt; objects </span>│\n",
       "│<span style=\"color: #008080; text-decoration-color: #008080\"> ultralytics </span>│<span style=\"color: #800080; text-decoration-color: #800080\"> yolov10l </span>│<span style=\"color: #008000; text-decoration-color: #008000\"> image --&gt; objects </span>│\n",
       "│<span style=\"color: #008080; text-decoration-color: #008080\"> ultralytics </span>│<span style=\"color: #800080; text-decoration-color: #800080\"> yolov10x </span>│<span style=\"color: #008000; text-decoration-color: #008000\"> image --&gt; objects </span>│\n",
       "│<span style=\"color: #008080; text-decoration-color: #008080\"> ultralytics </span>│<span style=\"color: #800080; text-decoration-color: #800080\"> yolo11n  </span>│<span style=\"color: #008000; text-decoration-color: #008000\"> image --&gt; objects </span>│\n",
       "│<span style=\"color: #008080; text-decoration-color: #008080\"> ultralytics </span>│<span style=\"color: #800080; text-decoration-color: #800080\"> yolo11s  </span>│<span style=\"color: #008000; text-decoration-color: #008000\"> image --&gt; objects </span>│\n",
       "│<span style=\"color: #008080; text-decoration-color: #008080\"> ultralytics </span>│<span style=\"color: #800080; text-decoration-color: #800080\"> yolo11m  </span>│<span style=\"color: #008000; text-decoration-color: #008000\"> image --&gt; objects </span>│\n",
       "│<span style=\"color: #008080; text-decoration-color: #008080\"> ultralytics </span>│<span style=\"color: #800080; text-decoration-color: #800080\"> yolo11l  </span>│<span style=\"color: #008000; text-decoration-color: #008000\"> image --&gt; objects </span>│\n",
       "│<span style=\"color: #008080; text-decoration-color: #008080\"> ultralytics </span>│<span style=\"color: #800080; text-decoration-color: #800080\"> yolo11x  </span>│<span style=\"color: #008000; text-decoration-color: #008000\"> image --&gt; objects </span>│\n",
       "└─────────────┴──────────┴───────────────────┘\n",
       "</pre>\n"
      ],
      "text/plain": [
       "\u001b[3m               Available Models               \u001b[0m\n",
       "┏━━━━━━━━━━━━━┳━━━━━━━━━━┳━━━━━━━━━━━━━━━━━━━┓\n",
       "┃\u001b[1m \u001b[0m\u001b[1mBackend    \u001b[0m\u001b[1m \u001b[0m┃\u001b[1m \u001b[0m\u001b[1mModel ID\u001b[0m\u001b[1m \u001b[0m┃\u001b[1m \u001b[0m\u001b[1mInput --> Output \u001b[0m\u001b[1m \u001b[0m┃\n",
       "┡━━━━━━━━━━━━━╇━━━━━━━━━━╇━━━━━━━━━━━━━━━━━━━┩\n",
       "│\u001b[36m \u001b[0m\u001b[36multralytics\u001b[0m\u001b[36m \u001b[0m│\u001b[35m \u001b[0m\u001b[35myolov8n \u001b[0m\u001b[35m \u001b[0m│\u001b[32m \u001b[0m\u001b[32mimage --> objects\u001b[0m\u001b[32m \u001b[0m│\n",
       "│\u001b[36m \u001b[0m\u001b[36multralytics\u001b[0m\u001b[36m \u001b[0m│\u001b[35m \u001b[0m\u001b[35myolov8s \u001b[0m\u001b[35m \u001b[0m│\u001b[32m \u001b[0m\u001b[32mimage --> objects\u001b[0m\u001b[32m \u001b[0m│\n",
       "│\u001b[36m \u001b[0m\u001b[36multralytics\u001b[0m\u001b[36m \u001b[0m│\u001b[35m \u001b[0m\u001b[35myolov8l \u001b[0m\u001b[35m \u001b[0m│\u001b[32m \u001b[0m\u001b[32mimage --> objects\u001b[0m\u001b[32m \u001b[0m│\n",
       "│\u001b[36m \u001b[0m\u001b[36multralytics\u001b[0m\u001b[36m \u001b[0m│\u001b[35m \u001b[0m\u001b[35myolov8m \u001b[0m\u001b[35m \u001b[0m│\u001b[32m \u001b[0m\u001b[32mimage --> objects\u001b[0m\u001b[32m \u001b[0m│\n",
       "│\u001b[36m \u001b[0m\u001b[36multralytics\u001b[0m\u001b[36m \u001b[0m│\u001b[35m \u001b[0m\u001b[35myolov8x \u001b[0m\u001b[35m \u001b[0m│\u001b[32m \u001b[0m\u001b[32mimage --> objects\u001b[0m\u001b[32m \u001b[0m│\n",
       "│\u001b[36m \u001b[0m\u001b[36multralytics\u001b[0m\u001b[36m \u001b[0m│\u001b[35m \u001b[0m\u001b[35myolov10n\u001b[0m\u001b[35m \u001b[0m│\u001b[32m \u001b[0m\u001b[32mimage --> objects\u001b[0m\u001b[32m \u001b[0m│\n",
       "│\u001b[36m \u001b[0m\u001b[36multralytics\u001b[0m\u001b[36m \u001b[0m│\u001b[35m \u001b[0m\u001b[35myolov10s\u001b[0m\u001b[35m \u001b[0m│\u001b[32m \u001b[0m\u001b[32mimage --> objects\u001b[0m\u001b[32m \u001b[0m│\n",
       "│\u001b[36m \u001b[0m\u001b[36multralytics\u001b[0m\u001b[36m \u001b[0m│\u001b[35m \u001b[0m\u001b[35myolov10m\u001b[0m\u001b[35m \u001b[0m│\u001b[32m \u001b[0m\u001b[32mimage --> objects\u001b[0m\u001b[32m \u001b[0m│\n",
       "│\u001b[36m \u001b[0m\u001b[36multralytics\u001b[0m\u001b[36m \u001b[0m│\u001b[35m \u001b[0m\u001b[35myolov10l\u001b[0m\u001b[35m \u001b[0m│\u001b[32m \u001b[0m\u001b[32mimage --> objects\u001b[0m\u001b[32m \u001b[0m│\n",
       "│\u001b[36m \u001b[0m\u001b[36multralytics\u001b[0m\u001b[36m \u001b[0m│\u001b[35m \u001b[0m\u001b[35myolov10x\u001b[0m\u001b[35m \u001b[0m│\u001b[32m \u001b[0m\u001b[32mimage --> objects\u001b[0m\u001b[32m \u001b[0m│\n",
       "│\u001b[36m \u001b[0m\u001b[36multralytics\u001b[0m\u001b[36m \u001b[0m│\u001b[35m \u001b[0m\u001b[35myolo11n \u001b[0m\u001b[35m \u001b[0m│\u001b[32m \u001b[0m\u001b[32mimage --> objects\u001b[0m\u001b[32m \u001b[0m│\n",
       "│\u001b[36m \u001b[0m\u001b[36multralytics\u001b[0m\u001b[36m \u001b[0m│\u001b[35m \u001b[0m\u001b[35myolo11s \u001b[0m\u001b[35m \u001b[0m│\u001b[32m \u001b[0m\u001b[32mimage --> objects\u001b[0m\u001b[32m \u001b[0m│\n",
       "│\u001b[36m \u001b[0m\u001b[36multralytics\u001b[0m\u001b[36m \u001b[0m│\u001b[35m \u001b[0m\u001b[35myolo11m \u001b[0m\u001b[35m \u001b[0m│\u001b[32m \u001b[0m\u001b[32mimage --> objects\u001b[0m\u001b[32m \u001b[0m│\n",
       "│\u001b[36m \u001b[0m\u001b[36multralytics\u001b[0m\u001b[36m \u001b[0m│\u001b[35m \u001b[0m\u001b[35myolo11l \u001b[0m\u001b[35m \u001b[0m│\u001b[32m \u001b[0m\u001b[32mimage --> objects\u001b[0m\u001b[32m \u001b[0m│\n",
       "│\u001b[36m \u001b[0m\u001b[36multralytics\u001b[0m\u001b[36m \u001b[0m│\u001b[35m \u001b[0m\u001b[35myolo11x \u001b[0m\u001b[35m \u001b[0m│\u001b[32m \u001b[0m\u001b[32mimage --> objects\u001b[0m\u001b[32m \u001b[0m│\n",
       "└─────────────┴──────────┴───────────────────┘\n"
      ]
     },
     "metadata": {},
     "output_type": "display_data"
    }
   ],
   "source": [
    "import xinfer\n",
    "\n",
    "xinfer.list_models(\"yolo\")"
   ]
  },
  {
   "cell_type": "code",
   "execution_count": 2,
   "metadata": {},
   "outputs": [
    {
     "name": "stdout",
     "output_type": "stream",
     "text": [
      "\n",
      "0: 640x480 4 persons, 1 bus, 40.0ms\n",
      "1: 640x480 4 persons, 1 bus, 40.0ms\n",
      "Speed: 2.6ms preprocess, 40.0ms inference, 33.9ms postprocess per image at shape (1, 3, 640, 480)\n"
     ]
    }
   ],
   "source": [
    "model = xinfer.create_model(\"yolov8s\", \"ultralytics\")\n",
    "\n",
    "results = model.inference(\n",
    "    [\n",
    "        \"https://ultralytics.com/images/bus.jpg\",\n",
    "        \"https://ultralytics.com/images/bus.jpg\",\n",
    "    ]\n",
    ")"
   ]
  },
  {
   "cell_type": "code",
   "execution_count": 3,
   "metadata": {},
   "outputs": [
    {
     "data": {
      "text/plain": [
       "'yolov8s.pt'"
      ]
     },
     "execution_count": 3,
     "metadata": {},
     "output_type": "execute_result"
    }
   ],
   "source": [
    "model.model.model_name\n"
   ]
  },
  {
   "cell_type": "code",
   "execution_count": 4,
   "metadata": {},
   "outputs": [],
   "source": [
    "from ultralytics import YOLO\n",
    "model.model = YOLO(\"yolov8n.pt\")"
   ]
  },
  {
   "cell_type": "code",
   "execution_count": 5,
   "metadata": {},
   "outputs": [
    {
     "data": {
      "text/plain": [
       "'yolov8n.pt'"
      ]
     },
     "execution_count": 5,
     "metadata": {},
     "output_type": "execute_result"
    }
   ],
   "source": [
    "model.model.model_name\n"
   ]
  },
  {
   "cell_type": "code",
   "execution_count": 6,
   "metadata": {},
   "outputs": [
    {
     "name": "stdout",
     "output_type": "stream",
     "text": [
      "\n",
      "0: 640x480 4 persons, 1 bus, 1 stop sign, 27.9ms\n",
      "1: 640x480 4 persons, 1 bus, 1 stop sign, 27.9ms\n",
      "Speed: 1.5ms preprocess, 27.9ms inference, 0.5ms postprocess per image at shape (1, 3, 640, 480)\n"
     ]
    }
   ],
   "source": [
    "results = model.inference(\n",
    "    [\n",
    "        \"https://ultralytics.com/images/bus.jpg\",\n",
    "        \"https://ultralytics.com/images/bus.jpg\",\n",
    "    ]\n",
    ")"
   ]
  },
  {
   "cell_type": "code",
   "execution_count": 7,
   "metadata": {},
   "outputs": [
    {
     "name": "stdout",
     "output_type": "stream",
     "text": [
      "\n",
      "0: 640x480 4 persons, 1 bus, 18.6ms\n",
      "1: 640x480 4 persons, 1 bus, 18.6ms\n",
      "Speed: 1.5ms preprocess, 18.6ms inference, 0.6ms postprocess per image at shape (1, 3, 640, 480)\n"
     ]
    }
   ],
   "source": [
    "model = xinfer.create_model(\"yolo11s\", \"ultralytics\")\n",
    "\n",
    "results = model.inference(\n",
    "    [\n",
    "        \"https://ultralytics.com/images/bus.jpg\",\n",
    "        \"https://ultralytics.com/images/bus.jpg\",\n",
    "    ]\n",
    ")"
   ]
  },
  {
   "cell_type": "code",
   "execution_count": 8,
   "metadata": {},
   "outputs": [
    {
     "data": {
      "text/plain": [
       "'yolo11s.pt'"
      ]
     },
     "execution_count": 8,
     "metadata": {},
     "output_type": "execute_result"
    }
   ],
   "source": [
    "model.model.model_name\n"
   ]
  },
  {
   "cell_type": "code",
   "execution_count": 9,
   "metadata": {},
   "outputs": [
    {
     "name": "stdout",
     "output_type": "stream",
     "text": [
      "\n",
      "0: 640x480 5 persons, 1 bus, 27.5ms\n",
      "1: 640x480 5 persons, 1 bus, 27.5ms\n",
      "Speed: 1.9ms preprocess, 27.5ms inference, 0.3ms postprocess per image at shape (1, 3, 640, 480)\n"
     ]
    },
    {
     "data": {
      "text/plain": [
       "'yolov10l.pt'"
      ]
     },
     "execution_count": 9,
     "metadata": {},
     "output_type": "execute_result"
    }
   ],
   "source": [
    "model = xinfer.create_model(\"yolov10l\", \"ultralytics\")\n",
    "\n",
    "results = model.inference(\n",
    "    [\n",
    "        \"https://ultralytics.com/images/bus.jpg\",\n",
    "        \"https://ultralytics.com/images/bus.jpg\",\n",
    "    ]\n",
    ")\n",
    "\n",
    "model.model.model_name\n"
   ]
  },
  {
   "cell_type": "code",
   "execution_count": null,
   "metadata": {},
   "outputs": [],
   "source": []
  },
  {
   "cell_type": "code",
   "execution_count": null,
   "metadata": {},
   "outputs": [],
   "source": []
  }
 ],
 "metadata": {
  "kernelspec": {
   "display_name": "xinfer",
   "language": "python",
   "name": "python3"
  },
  "language_info": {
   "codemirror_mode": {
    "name": "ipython",
    "version": 3
   },
   "file_extension": ".py",
   "mimetype": "text/x-python",
   "name": "python",
   "nbconvert_exporter": "python",
   "pygments_lexer": "ipython3",
   "version": "3.10.15"
  }
 },
 "nbformat": 4,
 "nbformat_minor": 2
}
